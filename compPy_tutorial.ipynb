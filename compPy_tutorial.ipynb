{
  "nbformat": 4,
  "nbformat_minor": 0,
  "metadata": {
    "colab": {
      "provenance": [],
      "authorship_tag": "ABX9TyNKa2ZbIzYPNh4xL90u9FXB",
      "include_colab_link": true
    },
    "kernelspec": {
      "name": "python3",
      "display_name": "Python 3"
    },
    "language_info": {
      "name": "python"
    }
  },
  "cells": [
    {
      "cell_type": "markdown",
      "metadata": {
        "id": "view-in-github",
        "colab_type": "text"
      },
      "source": [
        "<a href=\"https://colab.research.google.com/github/Richardjmorton/uCoMP-workshop-2023/blob/main/compPy_tutorial.ipynb\" target=\"_parent\"><img src=\"https://colab.research.google.com/assets/colab-badge.svg\" alt=\"Open In Colab\"/></a>"
      ]
    },
    {
      "cell_type": "markdown",
      "source": [
        "# Initial set-up of files\n",
        "\n",
        "The first step is to instal compPy via pip."
      ],
      "metadata": {
        "id": "IUc57DcUiR-E"
      }
    },
    {
      "cell_type": "code",
      "execution_count": 1,
      "metadata": {
        "colab": {
          "base_uri": "https://localhost:8080/"
        },
        "id": "lko-FMyNfFx3",
        "outputId": "072852a3-4692-4970-e68f-b5739edcd519"
      },
      "outputs": [
        {
          "output_type": "stream",
          "name": "stdout",
          "text": [
            "Collecting compPy\n",
            "  Downloading compPy-0.1.2a0-py3-none-any.whl (62 kB)\n",
            "\u001b[2K     \u001b[90m━━━━━━━━━━━━━━━━━━━━━━━━━━━━━━━━━━━━━━━\u001b[0m \u001b[32m62.2/62.2 kB\u001b[0m \u001b[31m988.5 kB/s\u001b[0m eta \u001b[36m0:00:00\u001b[0m\n",
            "\u001b[?25hCollecting sunpy>=5.0.0 (from compPy)\n",
            "  Downloading sunpy-5.0.0-cp39-abi3-manylinux_2_17_x86_64.manylinux2014_x86_64.whl (3.3 MB)\n",
            "\u001b[2K     \u001b[90m━━━━━━━━━━━━━━━━━━━━━━━━━━━━━━━━━━━━━━━━\u001b[0m \u001b[32m3.3/3.3 MB\u001b[0m \u001b[31m27.0 MB/s\u001b[0m eta \u001b[36m0:00:00\u001b[0m\n",
            "\u001b[?25hRequirement already satisfied: numpy>=1.21.0 in /usr/local/lib/python3.10/dist-packages (from compPy) (1.22.4)\n",
            "Requirement already satisfied: scipy!=1.10.0,>=1.7.0 in /usr/local/lib/python3.10/dist-packages (from compPy) (1.10.1)\n",
            "Requirement already satisfied: matplotlib>=3.5.0 in /usr/local/lib/python3.10/dist-packages (from compPy) (3.7.1)\n",
            "Requirement already satisfied: astropy>=5.0.1 in /usr/local/lib/python3.10/dist-packages (from compPy) (5.2.2)\n",
            "Collecting more-itertools>=10.0.0 (from compPy)\n",
            "  Downloading more_itertools-10.0.0-py3-none-any.whl (55 kB)\n",
            "\u001b[2K     \u001b[90m━━━━━━━━━━━━━━━━━━━━━━━━━━━━━━━━━━━━━━━━\u001b[0m \u001b[32m55.3/55.3 kB\u001b[0m \u001b[31m2.3 MB/s\u001b[0m eta \u001b[36m0:00:00\u001b[0m\n",
            "\u001b[?25hRequirement already satisfied: scikit-image>=0.18.0 in /usr/local/lib/python3.10/dist-packages (from compPy) (0.19.3)\n",
            "Requirement already satisfied: pyerfa>=2.0 in /usr/local/lib/python3.10/dist-packages (from astropy>=5.0.1->compPy) (2.0.0.3)\n",
            "Requirement already satisfied: PyYAML>=3.13 in /usr/local/lib/python3.10/dist-packages (from astropy>=5.0.1->compPy) (6.0.1)\n",
            "Requirement already satisfied: packaging>=19.0 in /usr/local/lib/python3.10/dist-packages (from astropy>=5.0.1->compPy) (23.1)\n",
            "Requirement already satisfied: contourpy>=1.0.1 in /usr/local/lib/python3.10/dist-packages (from matplotlib>=3.5.0->compPy) (1.1.0)\n",
            "Requirement already satisfied: cycler>=0.10 in /usr/local/lib/python3.10/dist-packages (from matplotlib>=3.5.0->compPy) (0.11.0)\n",
            "Requirement already satisfied: fonttools>=4.22.0 in /usr/local/lib/python3.10/dist-packages (from matplotlib>=3.5.0->compPy) (4.41.1)\n",
            "Requirement already satisfied: kiwisolver>=1.0.1 in /usr/local/lib/python3.10/dist-packages (from matplotlib>=3.5.0->compPy) (1.4.4)\n",
            "Requirement already satisfied: pillow>=6.2.0 in /usr/local/lib/python3.10/dist-packages (from matplotlib>=3.5.0->compPy) (9.4.0)\n",
            "Requirement already satisfied: pyparsing>=2.3.1 in /usr/local/lib/python3.10/dist-packages (from matplotlib>=3.5.0->compPy) (3.1.0)\n",
            "Requirement already satisfied: python-dateutil>=2.7 in /usr/local/lib/python3.10/dist-packages (from matplotlib>=3.5.0->compPy) (2.8.2)\n",
            "Requirement already satisfied: networkx>=2.2 in /usr/local/lib/python3.10/dist-packages (from scikit-image>=0.18.0->compPy) (3.1)\n",
            "Requirement already satisfied: imageio>=2.4.1 in /usr/local/lib/python3.10/dist-packages (from scikit-image>=0.18.0->compPy) (2.25.1)\n",
            "Requirement already satisfied: tifffile>=2019.7.26 in /usr/local/lib/python3.10/dist-packages (from scikit-image>=0.18.0->compPy) (2023.7.18)\n",
            "Requirement already satisfied: PyWavelets>=1.1.1 in /usr/local/lib/python3.10/dist-packages (from scikit-image>=0.18.0->compPy) (1.4.1)\n",
            "Collecting parfive[ftp]>=2.0.0 (from sunpy>=5.0.0->compPy)\n",
            "  Downloading parfive-2.0.2-py3-none-any.whl (26 kB)\n",
            "Requirement already satisfied: tqdm>=4.27.0 in /usr/local/lib/python3.10/dist-packages (from parfive[ftp]>=2.0.0->sunpy>=5.0.0->compPy) (4.65.0)\n",
            "Requirement already satisfied: aiohttp in /usr/local/lib/python3.10/dist-packages (from parfive[ftp]>=2.0.0->sunpy>=5.0.0->compPy) (3.8.5)\n",
            "Collecting aioftp>=0.17.1 (from parfive[ftp]>=2.0.0->sunpy>=5.0.0->compPy)\n",
            "  Downloading aioftp-0.21.4-py3-none-any.whl (37 kB)\n",
            "Requirement already satisfied: six>=1.5 in /usr/local/lib/python3.10/dist-packages (from python-dateutil>=2.7->matplotlib>=3.5.0->compPy) (1.16.0)\n",
            "Requirement already satisfied: attrs>=17.3.0 in /usr/local/lib/python3.10/dist-packages (from aiohttp->parfive[ftp]>=2.0.0->sunpy>=5.0.0->compPy) (23.1.0)\n",
            "Requirement already satisfied: charset-normalizer<4.0,>=2.0 in /usr/local/lib/python3.10/dist-packages (from aiohttp->parfive[ftp]>=2.0.0->sunpy>=5.0.0->compPy) (2.0.12)\n",
            "Requirement already satisfied: multidict<7.0,>=4.5 in /usr/local/lib/python3.10/dist-packages (from aiohttp->parfive[ftp]>=2.0.0->sunpy>=5.0.0->compPy) (6.0.4)\n",
            "Requirement already satisfied: async-timeout<5.0,>=4.0.0a3 in /usr/local/lib/python3.10/dist-packages (from aiohttp->parfive[ftp]>=2.0.0->sunpy>=5.0.0->compPy) (4.0.2)\n",
            "Requirement already satisfied: yarl<2.0,>=1.0 in /usr/local/lib/python3.10/dist-packages (from aiohttp->parfive[ftp]>=2.0.0->sunpy>=5.0.0->compPy) (1.9.2)\n",
            "Requirement already satisfied: frozenlist>=1.1.1 in /usr/local/lib/python3.10/dist-packages (from aiohttp->parfive[ftp]>=2.0.0->sunpy>=5.0.0->compPy) (1.4.0)\n",
            "Requirement already satisfied: aiosignal>=1.1.2 in /usr/local/lib/python3.10/dist-packages (from aiohttp->parfive[ftp]>=2.0.0->sunpy>=5.0.0->compPy) (1.3.1)\n",
            "Requirement already satisfied: idna>=2.0 in /usr/local/lib/python3.10/dist-packages (from yarl<2.0,>=1.0->aiohttp->parfive[ftp]>=2.0.0->sunpy>=5.0.0->compPy) (3.4)\n",
            "Installing collected packages: more-itertools, aioftp, parfive, sunpy, compPy\n",
            "  Attempting uninstall: more-itertools\n",
            "    Found existing installation: more-itertools 9.1.0\n",
            "    Uninstalling more-itertools-9.1.0:\n",
            "      Successfully uninstalled more-itertools-9.1.0\n",
            "Successfully installed aioftp-0.21.4 compPy-0.1.2a0 more-itertools-10.0.0 parfive-2.0.2 sunpy-5.0.0\n"
          ]
        }
      ],
      "source": [
        "!pip install compPy"
      ]
    },
    {
      "cell_type": "markdown",
      "source": [
        "Next we need to set up the expected directory structure."
      ],
      "metadata": {
        "id": "mrnLbhSUiXej"
      }
    },
    {
      "cell_type": "code",
      "source": [
        "!mkdir CoMP\n",
        "!mkdir CoMP/wave_tracking_output"
      ],
      "metadata": {
        "id": "lzKOJeskidXi"
      },
      "execution_count": 3,
      "outputs": []
    },
    {
      "cell_type": "markdown",
      "source": [
        "Download a sample data set (stored on a google drive)."
      ],
      "metadata": {
        "id": "vp5bQaXilr3V"
      }
    },
    {
      "cell_type": "code",
      "source": [
        "!pip install gdown\n",
        "!gdown https://drive.google.com/uc?id=1rw0c8mGJ31fxSnbWlbQB4hb1kUV2Bp9f"
      ],
      "metadata": {
        "colab": {
          "base_uri": "https://localhost:8080/"
        },
        "id": "S6g9iFJijEmY",
        "outputId": "54e4821f-bb59-43ac-f5fc-185337068ad0"
      },
      "execution_count": 4,
      "outputs": [
        {
          "output_type": "stream",
          "name": "stdout",
          "text": [
            "Requirement already satisfied: gdown in /usr/local/lib/python3.10/dist-packages (4.6.6)\n",
            "Requirement already satisfied: filelock in /usr/local/lib/python3.10/dist-packages (from gdown) (3.12.2)\n",
            "Requirement already satisfied: requests[socks] in /usr/local/lib/python3.10/dist-packages (from gdown) (2.27.1)\n",
            "Requirement already satisfied: six in /usr/local/lib/python3.10/dist-packages (from gdown) (1.16.0)\n",
            "Requirement already satisfied: tqdm in /usr/local/lib/python3.10/dist-packages (from gdown) (4.65.0)\n",
            "Requirement already satisfied: beautifulsoup4 in /usr/local/lib/python3.10/dist-packages (from gdown) (4.11.2)\n",
            "Requirement already satisfied: soupsieve>1.2 in /usr/local/lib/python3.10/dist-packages (from beautifulsoup4->gdown) (2.4.1)\n",
            "Requirement already satisfied: urllib3<1.27,>=1.21.1 in /usr/local/lib/python3.10/dist-packages (from requests[socks]->gdown) (1.26.16)\n",
            "Requirement already satisfied: certifi>=2017.4.17 in /usr/local/lib/python3.10/dist-packages (from requests[socks]->gdown) (2023.7.22)\n",
            "Requirement already satisfied: charset-normalizer~=2.0.0 in /usr/local/lib/python3.10/dist-packages (from requests[socks]->gdown) (2.0.12)\n",
            "Requirement already satisfied: idna<4,>=2.5 in /usr/local/lib/python3.10/dist-packages (from requests[socks]->gdown) (3.4)\n",
            "Requirement already satisfied: PySocks!=1.5.7,>=1.5.6 in /usr/local/lib/python3.10/dist-packages (from requests[socks]->gdown) (1.7.1)\n",
            "Downloading...\n",
            "From: https://drive.google.com/uc?id=1rw0c8mGJ31fxSnbWlbQB4hb1kUV2Bp9f\n",
            "To: /content/20161014.comp.1074.daily_dynamics.3.tar.gz\n",
            "100% 397M/397M [00:02<00:00, 158MB/s]\n"
          ]
        }
      ]
    },
    {
      "cell_type": "markdown",
      "source": [
        "Unzip files to structured directory.\n",
        "\n",
        "CoMPy expects to find Level 1 (u)CoMP data sets in a directory tree following 'COMP/year/month/day'"
      ],
      "metadata": {
        "id": "HRM6iWHLm-bC"
      }
    },
    {
      "cell_type": "code",
      "source": [
        "!mkdir CoMP/2016\n",
        "!mkdir CoMP/2016/10\n",
        "!mkdir CoMP/2016/10/14\n",
        "!mkdir CoMP/2016/10/14/dynamics_1074\n",
        "!tar -xvf  '/content/20161014.comp.1074.daily_dynamics.3.tar.gz' -C '/content/CoMP/2016/10/14/dynamics_1074'"
      ],
      "metadata": {
        "colab": {
          "base_uri": "https://localhost:8080/"
        },
        "id": "Zq84aQWGl_tI",
        "outputId": "810a8fab-46a6-4750-bd1a-4e813c787d9c"
      },
      "execution_count": 5,
      "outputs": [
        {
          "output_type": "stream",
          "name": "stdout",
          "text": [
            "20161014.175836.comp.1074.dynamics.3.fts.gz\n",
            "20161014.175920.comp.1074.dynamics.3.fts.gz\n",
            "20161014.180026.comp.1074.dynamics.3.fts.gz\n",
            "20161014.180106.comp.1074.dynamics.3.fts.gz\n",
            "20161014.180147.comp.1074.dynamics.3.fts.gz\n",
            "20161014.180227.comp.1074.dynamics.3.fts.gz\n",
            "20161014.180307.comp.1074.dynamics.3.fts.gz\n",
            "20161014.180347.comp.1074.dynamics.3.fts.gz\n",
            "20161014.180427.comp.1074.dynamics.3.fts.gz\n",
            "20161014.180507.comp.1074.dynamics.3.fts.gz\n",
            "20161014.180547.comp.1074.dynamics.3.fts.gz\n",
            "20161014.180627.comp.1074.dynamics.3.fts.gz\n",
            "20161014.180707.comp.1074.dynamics.3.fts.gz\n",
            "20161014.180747.comp.1074.dynamics.3.fts.gz\n",
            "20161014.180827.comp.1074.dynamics.3.fts.gz\n",
            "20161014.181433.comp.1074.dynamics.3.fts.gz\n",
            "20161014.181513.comp.1074.dynamics.3.fts.gz\n",
            "20161014.181553.comp.1074.dynamics.3.fts.gz\n",
            "20161014.181633.comp.1074.dynamics.3.fts.gz\n",
            "20161014.181713.comp.1074.dynamics.3.fts.gz\n",
            "20161014.181753.comp.1074.dynamics.3.fts.gz\n",
            "20161014.181833.comp.1074.dynamics.3.fts.gz\n",
            "20161014.181913.comp.1074.dynamics.3.fts.gz\n",
            "20161014.181953.comp.1074.dynamics.3.fts.gz\n",
            "20161014.182033.comp.1074.dynamics.3.fts.gz\n",
            "20161014.182113.comp.1074.dynamics.3.fts.gz\n",
            "20161014.182153.comp.1074.dynamics.3.fts.gz\n",
            "20161014.182233.comp.1074.dynamics.3.fts.gz\n",
            "20161014.182702.comp.1074.dynamics.3.fts.gz\n",
            "20161014.182742.comp.1074.dynamics.3.fts.gz\n",
            "20161014.182822.comp.1074.dynamics.3.fts.gz\n",
            "20161014.182903.comp.1074.dynamics.3.fts.gz\n",
            "20161014.182943.comp.1074.dynamics.3.fts.gz\n",
            "20161014.183023.comp.1074.dynamics.3.fts.gz\n",
            "20161014.183103.comp.1074.dynamics.3.fts.gz\n",
            "20161014.183143.comp.1074.dynamics.3.fts.gz\n",
            "20161014.183223.comp.1074.dynamics.3.fts.gz\n",
            "20161014.183303.comp.1074.dynamics.3.fts.gz\n",
            "20161014.183343.comp.1074.dynamics.3.fts.gz\n",
            "20161014.183423.comp.1074.dynamics.3.fts.gz\n",
            "20161014.183503.comp.1074.dynamics.3.fts.gz\n",
            "20161014.183934.comp.1074.dynamics.3.fts.gz\n",
            "20161014.184014.comp.1074.dynamics.3.fts.gz\n",
            "20161014.184054.comp.1074.dynamics.3.fts.gz\n",
            "20161014.184134.comp.1074.dynamics.3.fts.gz\n",
            "20161014.184215.comp.1074.dynamics.3.fts.gz\n",
            "20161014.184255.comp.1074.dynamics.3.fts.gz\n",
            "20161014.184335.comp.1074.dynamics.3.fts.gz\n",
            "20161014.184415.comp.1074.dynamics.3.fts.gz\n",
            "20161014.184455.comp.1074.dynamics.3.fts.gz\n",
            "20161014.184535.comp.1074.dynamics.3.fts.gz\n",
            "20161014.184615.comp.1074.dynamics.3.fts.gz\n",
            "20161014.184656.comp.1074.dynamics.3.fts.gz\n",
            "20161014.184736.comp.1074.dynamics.3.fts.gz\n",
            "20161014.185204.comp.1074.dynamics.3.fts.gz\n",
            "20161014.185244.comp.1074.dynamics.3.fts.gz\n",
            "20161014.185324.comp.1074.dynamics.3.fts.gz\n",
            "20161014.185405.comp.1074.dynamics.3.fts.gz\n",
            "20161014.185445.comp.1074.dynamics.3.fts.gz\n",
            "20161014.185525.comp.1074.dynamics.3.fts.gz\n",
            "20161014.185606.comp.1074.dynamics.3.fts.gz\n",
            "20161014.185646.comp.1074.dynamics.3.fts.gz\n",
            "20161014.185726.comp.1074.dynamics.3.fts.gz\n",
            "20161014.185806.comp.1074.dynamics.3.fts.gz\n",
            "20161014.185846.comp.1074.dynamics.3.fts.gz\n",
            "20161014.185926.comp.1074.dynamics.3.fts.gz\n",
            "20161014.190006.comp.1074.dynamics.3.fts.gz\n",
            "20161014.190435.comp.1074.dynamics.3.fts.gz\n",
            "20161014.190515.comp.1074.dynamics.3.fts.gz\n",
            "20161014.190555.comp.1074.dynamics.3.fts.gz\n",
            "20161014.190635.comp.1074.dynamics.3.fts.gz\n",
            "20161014.190715.comp.1074.dynamics.3.fts.gz\n",
            "20161014.190755.comp.1074.dynamics.3.fts.gz\n",
            "20161014.190835.comp.1074.dynamics.3.fts.gz\n",
            "20161014.190915.comp.1074.dynamics.3.fts.gz\n",
            "20161014.190955.comp.1074.dynamics.3.fts.gz\n",
            "20161014.191036.comp.1074.dynamics.3.fts.gz\n",
            "20161014.191116.comp.1074.dynamics.3.fts.gz\n",
            "20161014.191156.comp.1074.dynamics.3.fts.gz\n",
            "20161014.191236.comp.1074.dynamics.3.fts.gz\n",
            "20161014.191704.comp.1074.dynamics.3.fts.gz\n",
            "20161014.191744.comp.1074.dynamics.3.fts.gz\n",
            "20161014.191825.comp.1074.dynamics.3.fts.gz\n",
            "20161014.191905.comp.1074.dynamics.3.fts.gz\n",
            "20161014.191945.comp.1074.dynamics.3.fts.gz\n",
            "20161014.192025.comp.1074.dynamics.3.fts.gz\n",
            "20161014.192105.comp.1074.dynamics.3.fts.gz\n",
            "20161014.192145.comp.1074.dynamics.3.fts.gz\n",
            "20161014.192225.comp.1074.dynamics.3.fts.gz\n",
            "20161014.192305.comp.1074.dynamics.3.fts.gz\n",
            "20161014.192345.comp.1074.dynamics.3.fts.gz\n",
            "20161014.192425.comp.1074.dynamics.3.fts.gz\n",
            "20161014.192505.comp.1074.dynamics.3.fts.gz\n",
            "20161014.192934.comp.1074.dynamics.3.fts.gz\n",
            "20161014.193014.comp.1074.dynamics.3.fts.gz\n",
            "20161014.193054.comp.1074.dynamics.3.fts.gz\n",
            "20161014.193134.comp.1074.dynamics.3.fts.gz\n",
            "20161014.193214.comp.1074.dynamics.3.fts.gz\n",
            "20161014.193254.comp.1074.dynamics.3.fts.gz\n",
            "20161014.193334.comp.1074.dynamics.3.fts.gz\n",
            "20161014.193415.comp.1074.dynamics.3.fts.gz\n",
            "20161014.193455.comp.1074.dynamics.3.fts.gz\n",
            "20161014.193535.comp.1074.dynamics.3.fts.gz\n",
            "20161014.193615.comp.1074.dynamics.3.fts.gz\n",
            "20161014.193655.comp.1074.dynamics.3.fts.gz\n",
            "20161014.193735.comp.1074.dynamics.3.fts.gz\n",
            "20161014.194207.comp.1074.dynamics.3.fts.gz\n",
            "20161014.194247.comp.1074.dynamics.3.fts.gz\n",
            "20161014.194327.comp.1074.dynamics.3.fts.gz\n",
            "20161014.194407.comp.1074.dynamics.3.fts.gz\n",
            "20161014.194447.comp.1074.dynamics.3.fts.gz\n",
            "20161014.194527.comp.1074.dynamics.3.fts.gz\n",
            "20161014.194607.comp.1074.dynamics.3.fts.gz\n",
            "20161014.194647.comp.1074.dynamics.3.fts.gz\n",
            "20161014.194727.comp.1074.dynamics.3.fts.gz\n",
            "20161014.194807.comp.1074.dynamics.3.fts.gz\n",
            "20161014.194847.comp.1074.dynamics.3.fts.gz\n",
            "20161014.194927.comp.1074.dynamics.3.fts.gz\n",
            "20161014.195007.comp.1074.dynamics.3.fts.gz\n",
            "20161014.195436.comp.1074.dynamics.3.fts.gz\n",
            "20161014.195516.comp.1074.dynamics.3.fts.gz\n",
            "20161014.195556.comp.1074.dynamics.3.fts.gz\n",
            "20161014.195636.comp.1074.dynamics.3.fts.gz\n",
            "20161014.195717.comp.1074.dynamics.3.fts.gz\n",
            "20161014.195757.comp.1074.dynamics.3.fts.gz\n",
            "20161014.195837.comp.1074.dynamics.3.fts.gz\n",
            "20161014.195917.comp.1074.dynamics.3.fts.gz\n",
            "20161014.195957.comp.1074.dynamics.3.fts.gz\n",
            "20161014.200037.comp.1074.dynamics.3.fts.gz\n",
            "20161014.200117.comp.1074.dynamics.3.fts.gz\n",
            "20161014.200157.comp.1074.dynamics.3.fts.gz\n",
            "20161014.200238.comp.1074.dynamics.3.fts.gz\n",
            "20161014.200706.comp.1074.dynamics.3.fts.gz\n",
            "20161014.200746.comp.1074.dynamics.3.fts.gz\n",
            "20161014.200826.comp.1074.dynamics.3.fts.gz\n",
            "20161014.200906.comp.1074.dynamics.3.fts.gz\n",
            "20161014.200946.comp.1074.dynamics.3.fts.gz\n",
            "20161014.201027.comp.1074.dynamics.3.fts.gz\n",
            "20161014.201107.comp.1074.dynamics.3.fts.gz\n",
            "20161014.201147.comp.1074.dynamics.3.fts.gz\n",
            "20161014.201227.comp.1074.dynamics.3.fts.gz\n",
            "20161014.201307.comp.1074.dynamics.3.fts.gz\n",
            "20161014.201347.comp.1074.dynamics.3.fts.gz\n",
            "20161014.201427.comp.1074.dynamics.3.fts.gz\n",
            "20161014.201507.comp.1074.dynamics.3.fts.gz\n",
            "20161014.201936.comp.1074.dynamics.3.fts.gz\n",
            "20161014.202016.comp.1074.dynamics.3.fts.gz\n",
            "20161014.202056.comp.1074.dynamics.3.fts.gz\n",
            "20161014.202137.comp.1074.dynamics.3.fts.gz\n",
            "20161014.202217.comp.1074.dynamics.3.fts.gz\n",
            "20161014.202257.comp.1074.dynamics.3.fts.gz\n",
            "20161014.202337.comp.1074.dynamics.3.fts.gz\n",
            "20161014.202417.comp.1074.dynamics.3.fts.gz\n",
            "20161014.202457.comp.1074.dynamics.3.fts.gz\n",
            "20161014.202537.comp.1074.dynamics.3.fts.gz\n",
            "20161014.202617.comp.1074.dynamics.3.fts.gz\n",
            "20161014.202657.comp.1074.dynamics.3.fts.gz\n",
            "20161014.202737.comp.1074.dynamics.3.fts.gz\n",
            "20161014.203439.comp.1074.dynamics.3.fts.gz\n",
            "20161014.203508.comp.1074.dynamics.3.fts.gz\n",
            "20161014.203539.comp.1074.dynamics.3.fts.gz\n",
            "20161014.203609.comp.1074.dynamics.3.fts.gz\n",
            "20161014.203638.comp.1074.dynamics.3.fts.gz\n",
            "20161014.203709.comp.1074.dynamics.3.fts.gz\n",
            "20161014.203739.comp.1074.dynamics.3.fts.gz\n",
            "20161014.203808.comp.1074.dynamics.3.fts.gz\n",
            "20161014.203839.comp.1074.dynamics.3.fts.gz\n",
            "20161014.203909.comp.1074.dynamics.3.fts.gz\n",
            "20161014.203939.comp.1074.dynamics.3.fts.gz\n",
            "20161014.204009.comp.1074.dynamics.3.fts.gz\n",
            "20161014.204039.comp.1074.dynamics.3.fts.gz\n",
            "20161014.204109.comp.1074.dynamics.3.fts.gz\n",
            "20161014.204138.comp.1074.dynamics.3.fts.gz\n",
            "20161014.204209.comp.1074.dynamics.3.fts.gz\n",
            "20161014.204239.comp.1074.dynamics.3.fts.gz\n",
            "20161014.204308.comp.1074.dynamics.3.fts.gz\n",
            "20161014.204339.comp.1074.dynamics.3.fts.gz\n",
            "20161014.204409.comp.1074.dynamics.3.fts.gz\n",
            "20161014.204438.comp.1074.dynamics.3.fts.gz\n",
            "20161014.204509.comp.1074.dynamics.3.fts.gz\n",
            "20161014.204539.comp.1074.dynamics.3.fts.gz\n",
            "20161014.204608.comp.1074.dynamics.3.fts.gz\n",
            "20161014.204639.comp.1074.dynamics.3.fts.gz\n",
            "20161014.204709.comp.1074.dynamics.3.fts.gz\n",
            "20161014.204738.comp.1074.dynamics.3.fts.gz\n",
            "20161014.204809.comp.1074.dynamics.3.fts.gz\n",
            "20161014.204839.comp.1074.dynamics.3.fts.gz\n",
            "20161014.204908.comp.1074.dynamics.3.fts.gz\n",
            "20161014.204939.comp.1074.dynamics.3.fts.gz\n",
            "20161014.205009.comp.1074.dynamics.3.fts.gz\n",
            "20161014.205038.comp.1074.dynamics.3.fts.gz\n",
            "20161014.205109.comp.1074.dynamics.3.fts.gz\n",
            "20161014.205139.comp.1074.dynamics.3.fts.gz\n",
            "20161014.205209.comp.1074.dynamics.3.fts.gz\n",
            "20161014.205239.comp.1074.dynamics.3.fts.gz\n",
            "20161014.205309.comp.1074.dynamics.3.fts.gz\n",
            "20161014.205338.comp.1074.dynamics.3.fts.gz\n",
            "20161014.205409.comp.1074.dynamics.3.fts.gz\n",
            "20161014.205439.comp.1074.dynamics.3.fts.gz\n",
            "20161014.205509.comp.1074.dynamics.3.fts.gz\n",
            "20161014.205539.comp.1074.dynamics.3.fts.gz\n",
            "20161014.205609.comp.1074.dynamics.3.fts.gz\n",
            "20161014.205639.comp.1074.dynamics.3.fts.gz\n",
            "20161014.205708.comp.1074.dynamics.3.fts.gz\n",
            "20161014.205739.comp.1074.dynamics.3.fts.gz\n",
            "20161014.205809.comp.1074.dynamics.3.fts.gz\n",
            "20161014.205838.comp.1074.dynamics.3.fts.gz\n",
            "20161014.205909.comp.1074.dynamics.3.fts.gz\n",
            "20161014.205939.comp.1074.dynamics.3.fts.gz\n",
            "20161014.210008.comp.1074.dynamics.3.fts.gz\n",
            "20161014.210039.comp.1074.dynamics.3.fts.gz\n",
            "20161014.210109.comp.1074.dynamics.3.fts.gz\n",
            "20161014.210138.comp.1074.dynamics.3.fts.gz\n",
            "20161014.210209.comp.1074.dynamics.3.fts.gz\n",
            "20161014.210239.comp.1074.dynamics.3.fts.gz\n",
            "20161014.210308.comp.1074.dynamics.3.fts.gz\n",
            "20161014.210339.comp.1074.dynamics.3.fts.gz\n",
            "20161014.210409.comp.1074.dynamics.3.fts.gz\n",
            "20161014.210438.comp.1074.dynamics.3.fts.gz\n",
            "20161014.210509.comp.1074.dynamics.3.fts.gz\n",
            "20161014.210539.comp.1074.dynamics.3.fts.gz\n",
            "20161014.210608.comp.1074.dynamics.3.fts.gz\n",
            "20161014.210639.comp.1074.dynamics.3.fts.gz\n",
            "20161014.210709.comp.1074.dynamics.3.fts.gz\n",
            "20161014.210738.comp.1074.dynamics.3.fts.gz\n",
            "20161014.210809.comp.1074.dynamics.3.fts.gz\n",
            "20161014.210839.comp.1074.dynamics.3.fts.gz\n",
            "20161014.210908.comp.1074.dynamics.3.fts.gz\n",
            "20161014.210939.comp.1074.dynamics.3.fts.gz\n",
            "20161014.211009.comp.1074.dynamics.3.fts.gz\n",
            "20161014.211039.comp.1074.dynamics.3.fts.gz\n",
            "20161014.211109.comp.1074.dynamics.3.fts.gz\n",
            "20161014.211139.comp.1074.dynamics.3.fts.gz\n",
            "20161014.211209.comp.1074.dynamics.3.fts.gz\n",
            "20161014.211238.comp.1074.dynamics.3.fts.gz\n",
            "20161014.211309.comp.1074.dynamics.3.fts.gz\n",
            "20161014.211339.comp.1074.dynamics.3.fts.gz\n",
            "20161014.211408.comp.1074.dynamics.3.fts.gz\n",
            "20161014.211439.comp.1074.dynamics.3.fts.gz\n",
            "20161014.211509.comp.1074.dynamics.3.fts.gz\n",
            "20161014.211538.comp.1074.dynamics.3.fts.gz\n",
            "20161014.211609.comp.1074.dynamics.3.fts.gz\n",
            "20161014.211639.comp.1074.dynamics.3.fts.gz\n",
            "20161014.211708.comp.1074.dynamics.3.fts.gz\n",
            "20161014.211739.comp.1074.dynamics.3.fts.gz\n",
            "20161014.211809.comp.1074.dynamics.3.fts.gz\n",
            "20161014.211838.comp.1074.dynamics.3.fts.gz\n",
            "20161014.211909.comp.1074.dynamics.3.fts.gz\n",
            "20161014.211939.comp.1074.dynamics.3.fts.gz\n",
            "20161014.212008.comp.1074.dynamics.3.fts.gz\n",
            "20161014.212039.comp.1074.dynamics.3.fts.gz\n",
            "20161014.212109.comp.1074.dynamics.3.fts.gz\n",
            "20161014.212138.comp.1074.dynamics.3.fts.gz\n",
            "20161014.212209.comp.1074.dynamics.3.fts.gz\n",
            "20161014.212239.comp.1074.dynamics.3.fts.gz\n",
            "20161014.212308.comp.1074.dynamics.3.fts.gz\n",
            "20161014.212339.comp.1074.dynamics.3.fts.gz\n",
            "20161014.212409.comp.1074.dynamics.3.fts.gz\n",
            "20161014.212438.comp.1074.dynamics.3.fts.gz\n",
            "20161014.212509.comp.1074.dynamics.3.fts.gz\n",
            "20161014.212539.comp.1074.dynamics.3.fts.gz\n",
            "20161014.212608.comp.1074.dynamics.3.fts.gz\n",
            "20161014.212639.comp.1074.dynamics.3.fts.gz\n",
            "20161014.212709.comp.1074.dynamics.3.fts.gz\n",
            "20161014.212739.comp.1074.dynamics.3.fts.gz\n",
            "20161014.212809.comp.1074.dynamics.3.fts.gz\n",
            "20161014.212839.comp.1074.dynamics.3.fts.gz\n",
            "20161014.212909.comp.1074.dynamics.3.fts.gz\n",
            "20161014.212938.comp.1074.dynamics.3.fts.gz\n",
            "20161014.213009.comp.1074.dynamics.3.fts.gz\n",
            "20161014.213039.comp.1074.dynamics.3.fts.gz\n",
            "20161014.213108.comp.1074.dynamics.3.fts.gz\n",
            "20161014.213139.comp.1074.dynamics.3.fts.gz\n",
            "20161014.213209.comp.1074.dynamics.3.fts.gz\n",
            "20161014.213238.comp.1074.dynamics.3.fts.gz\n",
            "20161014.213309.comp.1074.dynamics.3.fts.gz\n",
            "20161014.213339.comp.1074.dynamics.3.fts.gz\n",
            "20161014.213408.comp.1074.dynamics.3.fts.gz\n",
            "20161014.213439.comp.1074.dynamics.3.fts.gz\n",
            "20161014.213509.comp.1074.dynamics.3.fts.gz\n",
            "20161014.213538.comp.1074.dynamics.3.fts.gz\n",
            "20161014.213609.comp.1074.dynamics.3.fts.gz\n",
            "20161014.213639.comp.1074.dynamics.3.fts.gz\n",
            "20161014.213708.comp.1074.dynamics.3.fts.gz\n",
            "20161014.213739.comp.1074.dynamics.3.fts.gz\n",
            "20161014.213809.comp.1074.dynamics.3.fts.gz\n",
            "20161014.213838.comp.1074.dynamics.3.fts.gz\n",
            "20161014.213909.comp.1074.dynamics.3.fts.gz\n",
            "20161014.213939.comp.1074.dynamics.3.fts.gz\n",
            "20161014.214008.comp.1074.dynamics.3.fts.gz\n",
            "20161014.214039.comp.1074.dynamics.3.fts.gz\n",
            "20161014.214109.comp.1074.dynamics.3.fts.gz\n",
            "20161014.214138.comp.1074.dynamics.3.fts.gz\n",
            "20161014.214209.comp.1074.dynamics.3.fts.gz\n",
            "20161014.214239.comp.1074.dynamics.3.fts.gz\n",
            "20161014.214309.comp.1074.dynamics.3.fts.gz\n",
            "20161014.214339.comp.1074.dynamics.3.fts.gz\n",
            "20161014.214409.comp.1074.dynamics.3.fts.gz\n",
            "20161014.214439.comp.1074.dynamics.3.fts.gz\n",
            "20161014.214508.comp.1074.dynamics.3.fts.gz\n",
            "20161014.214539.comp.1074.dynamics.3.fts.gz\n",
            "20161014.214609.comp.1074.dynamics.3.fts.gz\n",
            "20161014.214638.comp.1074.dynamics.3.fts.gz\n",
            "20161014.214709.comp.1074.dynamics.3.fts.gz\n",
            "20161014.214739.comp.1074.dynamics.3.fts.gz\n",
            "20161014.214808.comp.1074.dynamics.3.fts.gz\n",
            "20161014.214839.comp.1074.dynamics.3.fts.gz\n",
            "20161014.214909.comp.1074.dynamics.3.fts.gz\n",
            "20161014.214938.comp.1074.dynamics.3.fts.gz\n",
            "20161014.215009.comp.1074.dynamics.3.fts.gz\n",
            "20161014.215039.comp.1074.dynamics.3.fts.gz\n",
            "20161014.215108.comp.1074.dynamics.3.fts.gz\n",
            "20161014.215139.comp.1074.dynamics.3.fts.gz\n",
            "20161014.215209.comp.1074.dynamics.3.fts.gz\n",
            "20161014.215238.comp.1074.dynamics.3.fts.gz\n",
            "20161014.215309.comp.1074.dynamics.3.fts.gz\n",
            "20161014.215339.comp.1074.dynamics.3.fts.gz\n",
            "20161014.215408.comp.1074.dynamics.3.fts.gz\n",
            "20161014.215439.comp.1074.dynamics.3.fts.gz\n",
            "20161014.215509.comp.1074.dynamics.3.fts.gz\n",
            "20161014.215538.comp.1074.dynamics.3.fts.gz\n",
            "20161014.215609.comp.1074.dynamics.3.fts.gz\n",
            "20161014.215639.comp.1074.dynamics.3.fts.gz\n",
            "20161014.215708.comp.1074.dynamics.3.fts.gz\n",
            "20161014.215739.comp.1074.dynamics.3.fts.gz\n",
            "20161014.215809.comp.1074.dynamics.3.fts.gz\n",
            "20161014.215839.comp.1074.dynamics.3.fts.gz\n",
            "20161014.215909.comp.1074.dynamics.3.fts.gz\n",
            "20161014.215939.comp.1074.dynamics.3.fts.gz\n",
            "20161014.220009.comp.1074.dynamics.3.fts.gz\n",
            "20161014.220038.comp.1074.dynamics.3.fts.gz\n",
            "20161014.220109.comp.1074.dynamics.3.fts.gz\n",
            "20161014.220139.comp.1074.dynamics.3.fts.gz\n",
            "20161014.220209.comp.1074.dynamics.3.fts.gz\n",
            "20161014.220239.comp.1074.dynamics.3.fts.gz\n",
            "20161014.220309.comp.1074.dynamics.3.fts.gz\n",
            "20161014.220338.comp.1074.dynamics.3.fts.gz\n",
            "20161014.220409.comp.1074.dynamics.3.fts.gz\n",
            "20161014.221208.comp.1074.dynamics.3.fts.gz\n",
            "20161014.221252.comp.1074.dynamics.3.fts.gz\n",
            "20161014.221358.comp.1074.dynamics.3.fts.gz\n",
            "20161014.221438.comp.1074.dynamics.3.fts.gz\n",
            "20161014.221518.comp.1074.dynamics.3.fts.gz\n",
            "20161014.221559.comp.1074.dynamics.3.fts.gz\n",
            "20161014.221639.comp.1074.dynamics.3.fts.gz\n",
            "20161014.221719.comp.1074.dynamics.3.fts.gz\n",
            "20161014.221759.comp.1074.dynamics.3.fts.gz\n",
            "20161014.221839.comp.1074.dynamics.3.fts.gz\n",
            "20161014.221919.comp.1074.dynamics.3.fts.gz\n",
            "20161014.221959.comp.1074.dynamics.3.fts.gz\n",
            "20161014.222039.comp.1074.dynamics.3.fts.gz\n",
            "20161014.222119.comp.1074.dynamics.3.fts.gz\n",
            "20161014.222159.comp.1074.dynamics.3.fts.gz\n",
            "20161014.222805.comp.1074.dynamics.3.fts.gz\n",
            "20161014.222845.comp.1074.dynamics.3.fts.gz\n",
            "20161014.222925.comp.1074.dynamics.3.fts.gz\n",
            "20161014.223005.comp.1074.dynamics.3.fts.gz\n",
            "20161014.223045.comp.1074.dynamics.3.fts.gz\n",
            "20161014.223126.comp.1074.dynamics.3.fts.gz\n",
            "20161014.223206.comp.1074.dynamics.3.fts.gz\n",
            "20161014.223246.comp.1074.dynamics.3.fts.gz\n",
            "20161014.223326.comp.1074.dynamics.3.fts.gz\n",
            "20161014.223406.comp.1074.dynamics.3.fts.gz\n",
            "20161014.223447.comp.1074.dynamics.3.fts.gz\n",
            "20161014.223527.comp.1074.dynamics.3.fts.gz\n",
            "20161014.223607.comp.1074.dynamics.3.fts.gz\n",
            "20161014.224035.comp.1074.dynamics.3.fts.gz\n",
            "20161014.224115.comp.1074.dynamics.3.fts.gz\n",
            "20161014.224155.comp.1074.dynamics.3.fts.gz\n",
            "20161014.224235.comp.1074.dynamics.3.fts.gz\n",
            "20161014.224315.comp.1074.dynamics.3.fts.gz\n",
            "20161014.224355.comp.1074.dynamics.3.fts.gz\n",
            "20161014.224435.comp.1074.dynamics.3.fts.gz\n",
            "20161014.224516.comp.1074.dynamics.3.fts.gz\n",
            "20161014.224556.comp.1074.dynamics.3.fts.gz\n",
            "20161014.224636.comp.1074.dynamics.3.fts.gz\n",
            "20161014.224716.comp.1074.dynamics.3.fts.gz\n",
            "20161014.224756.comp.1074.dynamics.3.fts.gz\n",
            "20161014.224836.comp.1074.dynamics.3.fts.gz\n",
            "20161014.225304.comp.1074.dynamics.3.fts.gz\n",
            "20161014.225344.comp.1074.dynamics.3.fts.gz\n",
            "20161014.225424.comp.1074.dynamics.3.fts.gz\n",
            "20161014.225504.comp.1074.dynamics.3.fts.gz\n",
            "20161014.225544.comp.1074.dynamics.3.fts.gz\n",
            "20161014.225624.comp.1074.dynamics.3.fts.gz\n",
            "20161014.225705.comp.1074.dynamics.3.fts.gz\n",
            "20161014.225745.comp.1074.dynamics.3.fts.gz\n",
            "20161014.225825.comp.1074.dynamics.3.fts.gz\n",
            "20161014.225905.comp.1074.dynamics.3.fts.gz\n",
            "20161014.225945.comp.1074.dynamics.3.fts.gz\n",
            "20161014.230025.comp.1074.dynamics.3.fts.gz\n",
            "20161014.230105.comp.1074.dynamics.3.fts.gz\n",
            "20161014.230533.comp.1074.dynamics.3.fts.gz\n",
            "20161014.230613.comp.1074.dynamics.3.fts.gz\n",
            "20161014.230653.comp.1074.dynamics.3.fts.gz\n",
            "20161014.230733.comp.1074.dynamics.3.fts.gz\n",
            "20161014.230814.comp.1074.dynamics.3.fts.gz\n",
            "20161014.230854.comp.1074.dynamics.3.fts.gz\n",
            "20161014.230934.comp.1074.dynamics.3.fts.gz\n",
            "20161014.231014.comp.1074.dynamics.3.fts.gz\n",
            "20161014.231054.comp.1074.dynamics.3.fts.gz\n",
            "20161014.231134.comp.1074.dynamics.3.fts.gz\n",
            "20161014.231214.comp.1074.dynamics.3.fts.gz\n",
            "20161014.231254.comp.1074.dynamics.3.fts.gz\n",
            "20161014.231334.comp.1074.dynamics.3.fts.gz\n",
            "20161014.231803.comp.1074.dynamics.3.fts.gz\n",
            "20161014.231843.comp.1074.dynamics.3.fts.gz\n",
            "20161014.231923.comp.1074.dynamics.3.fts.gz\n",
            "20161014.232003.comp.1074.dynamics.3.fts.gz\n",
            "20161014.232043.comp.1074.dynamics.3.fts.gz\n",
            "20161014.232123.comp.1074.dynamics.3.fts.gz\n",
            "20161014.232203.comp.1074.dynamics.3.fts.gz\n",
            "20161014.232243.comp.1074.dynamics.3.fts.gz\n",
            "20161014.232323.comp.1074.dynamics.3.fts.gz\n",
            "20161014.232403.comp.1074.dynamics.3.fts.gz\n",
            "20161014.232443.comp.1074.dynamics.3.fts.gz\n",
            "20161014.232523.comp.1074.dynamics.3.fts.gz\n",
            "20161014.232603.comp.1074.dynamics.3.fts.gz\n",
            "20161014.233032.comp.1074.dynamics.3.fts.gz\n",
            "20161014.233112.comp.1074.dynamics.3.fts.gz\n",
            "20161014.233152.comp.1074.dynamics.3.fts.gz\n",
            "20161014.233232.comp.1074.dynamics.3.fts.gz\n",
            "20161014.233312.comp.1074.dynamics.3.fts.gz\n",
            "20161014.233352.comp.1074.dynamics.3.fts.gz\n",
            "20161014.233432.comp.1074.dynamics.3.fts.gz\n",
            "20161014.233512.comp.1074.dynamics.3.fts.gz\n",
            "20161014.233552.comp.1074.dynamics.3.fts.gz\n",
            "20161014.233632.comp.1074.dynamics.3.fts.gz\n",
            "20161014.233712.comp.1074.dynamics.3.fts.gz\n",
            "20161014.233753.comp.1074.dynamics.3.fts.gz\n",
            "20161014.233833.comp.1074.dynamics.3.fts.gz\n",
            "20161014.234302.comp.1074.dynamics.3.fts.gz\n",
            "20161014.234342.comp.1074.dynamics.3.fts.gz\n",
            "20161014.234422.comp.1074.dynamics.3.fts.gz\n",
            "20161014.234502.comp.1074.dynamics.3.fts.gz\n",
            "20161014.234542.comp.1074.dynamics.3.fts.gz\n",
            "20161014.234622.comp.1074.dynamics.3.fts.gz\n",
            "20161014.234702.comp.1074.dynamics.3.fts.gz\n",
            "20161014.234742.comp.1074.dynamics.3.fts.gz\n",
            "20161014.234822.comp.1074.dynamics.3.fts.gz\n",
            "20161014.234902.comp.1074.dynamics.3.fts.gz\n",
            "20161014.234942.comp.1074.dynamics.3.fts.gz\n",
            "20161014.235023.comp.1074.dynamics.3.fts.gz\n",
            "20161014.235103.comp.1074.dynamics.3.fts.gz\n",
            "20161014.235531.comp.1074.dynamics.3.fts.gz\n",
            "20161014.235611.comp.1074.dynamics.3.fts.gz\n",
            "20161014.235651.comp.1074.dynamics.3.fts.gz\n",
            "20161014.235731.comp.1074.dynamics.3.fts.gz\n",
            "20161014.235811.comp.1074.dynamics.3.fts.gz\n",
            "20161014.235852.comp.1074.dynamics.3.fts.gz\n",
            "20161014.235932.comp.1074.dynamics.3.fts.gz\n",
            "20161015.000012.comp.1074.dynamics.3.fts.gz\n",
            "20161015.000052.comp.1074.dynamics.3.fts.gz\n",
            "20161015.000132.comp.1074.dynamics.3.fts.gz\n",
            "20161015.000212.comp.1074.dynamics.3.fts.gz\n",
            "20161015.000252.comp.1074.dynamics.3.fts.gz\n",
            "20161015.000333.comp.1074.dynamics.3.fts.gz\n",
            "20161015.000802.comp.1074.dynamics.3.fts.gz\n",
            "20161015.000842.comp.1074.dynamics.3.fts.gz\n",
            "20161015.000922.comp.1074.dynamics.3.fts.gz\n",
            "20161015.001002.comp.1074.dynamics.3.fts.gz\n",
            "20161015.001042.comp.1074.dynamics.3.fts.gz\n",
            "20161015.001122.comp.1074.dynamics.3.fts.gz\n",
            "20161015.001202.comp.1074.dynamics.3.fts.gz\n",
            "20161015.001242.comp.1074.dynamics.3.fts.gz\n",
            "20161015.001322.comp.1074.dynamics.3.fts.gz\n",
            "20161015.001402.comp.1074.dynamics.3.fts.gz\n",
            "20161015.001442.comp.1074.dynamics.3.fts.gz\n",
            "20161015.001523.comp.1074.dynamics.3.fts.gz\n",
            "20161015.001603.comp.1074.dynamics.3.fts.gz\n",
            "20161015.002031.comp.1074.dynamics.3.fts.gz\n",
            "20161015.002111.comp.1074.dynamics.3.fts.gz\n",
            "20161015.002151.comp.1074.dynamics.3.fts.gz\n",
            "20161015.002231.comp.1074.dynamics.3.fts.gz\n",
            "20161015.002311.comp.1074.dynamics.3.fts.gz\n",
            "20161015.002351.comp.1074.dynamics.3.fts.gz\n",
            "20161015.002431.comp.1074.dynamics.3.fts.gz\n",
            "20161015.002512.comp.1074.dynamics.3.fts.gz\n",
            "20161015.002552.comp.1074.dynamics.3.fts.gz\n",
            "20161015.002632.comp.1074.dynamics.3.fts.gz\n",
            "20161015.002712.comp.1074.dynamics.3.fts.gz\n",
            "20161015.002752.comp.1074.dynamics.3.fts.gz\n",
            "20161015.002832.comp.1074.dynamics.3.fts.gz\n",
            "20161015.004337.comp.1074.dynamics.3.fts.gz\n",
            "20161015.004421.comp.1074.dynamics.3.fts.gz\n",
            "20161015.004527.comp.1074.dynamics.3.fts.gz\n",
            "20161015.004607.comp.1074.dynamics.3.fts.gz\n",
            "20161015.004647.comp.1074.dynamics.3.fts.gz\n",
            "20161015.004727.comp.1074.dynamics.3.fts.gz\n",
            "20161015.004807.comp.1074.dynamics.3.fts.gz\n",
            "20161015.004847.comp.1074.dynamics.3.fts.gz\n",
            "20161015.004928.comp.1074.dynamics.3.fts.gz\n",
            "20161015.005008.comp.1074.dynamics.3.fts.gz\n",
            "20161015.005048.comp.1074.dynamics.3.fts.gz\n",
            "20161015.005128.comp.1074.dynamics.3.fts.gz\n",
            "20161015.005209.comp.1074.dynamics.3.fts.gz\n",
            "20161015.005249.comp.1074.dynamics.3.fts.gz\n",
            "20161015.005329.comp.1074.dynamics.3.fts.gz\n",
            "20161015.005935.comp.1074.dynamics.3.fts.gz\n",
            "20161015.010015.comp.1074.dynamics.3.fts.gz\n",
            "20161015.010055.comp.1074.dynamics.3.fts.gz\n",
            "20161015.010135.comp.1074.dynamics.3.fts.gz\n",
            "20161015.010215.comp.1074.dynamics.3.fts.gz\n",
            "20161015.010255.comp.1074.dynamics.3.fts.gz\n",
            "20161015.010335.comp.1074.dynamics.3.fts.gz\n",
            "20161015.010415.comp.1074.dynamics.3.fts.gz\n",
            "20161015.010455.comp.1074.dynamics.3.fts.gz\n",
            "20161015.010535.comp.1074.dynamics.3.fts.gz\n",
            "20161015.010615.comp.1074.dynamics.3.fts.gz\n",
            "20161015.010655.comp.1074.dynamics.3.fts.gz\n",
            "20161015.010735.comp.1074.dynamics.3.fts.gz\n",
            "20161015.011204.comp.1074.dynamics.3.fts.gz\n",
            "20161015.011244.comp.1074.dynamics.3.fts.gz\n",
            "20161015.011324.comp.1074.dynamics.3.fts.gz\n",
            "20161015.011404.comp.1074.dynamics.3.fts.gz\n",
            "20161015.011444.comp.1074.dynamics.3.fts.gz\n",
            "20161015.011524.comp.1074.dynamics.3.fts.gz\n",
            "20161015.011604.comp.1074.dynamics.3.fts.gz\n",
            "20161015.011644.comp.1074.dynamics.3.fts.gz\n",
            "20161015.011724.comp.1074.dynamics.3.fts.gz\n",
            "20161015.011804.comp.1074.dynamics.3.fts.gz\n",
            "20161015.011845.comp.1074.dynamics.3.fts.gz\n",
            "20161015.011925.comp.1074.dynamics.3.fts.gz\n",
            "20161015.012005.comp.1074.dynamics.3.fts.gz\n",
            "20161015.012433.comp.1074.dynamics.3.fts.gz\n",
            "20161015.012513.comp.1074.dynamics.3.fts.gz\n",
            "20161015.012553.comp.1074.dynamics.3.fts.gz\n",
            "20161015.012634.comp.1074.dynamics.3.fts.gz\n",
            "20161015.012714.comp.1074.dynamics.3.fts.gz\n",
            "20161015.012754.comp.1074.dynamics.3.fts.gz\n",
            "20161015.012834.comp.1074.dynamics.3.fts.gz\n",
            "20161015.012914.comp.1074.dynamics.3.fts.gz\n",
            "20161015.012954.comp.1074.dynamics.3.fts.gz\n",
            "20161015.013034.comp.1074.dynamics.3.fts.gz\n",
            "20161015.013114.comp.1074.dynamics.3.fts.gz\n",
            "20161015.013154.comp.1074.dynamics.3.fts.gz\n",
            "20161015.013234.comp.1074.dynamics.3.fts.gz\n",
            "20161015.013703.comp.1074.dynamics.3.fts.gz\n",
            "20161015.013743.comp.1074.dynamics.3.fts.gz\n",
            "20161015.013823.comp.1074.dynamics.3.fts.gz\n",
            "20161015.013903.comp.1074.dynamics.3.fts.gz\n",
            "20161015.013943.comp.1074.dynamics.3.fts.gz\n",
            "20161015.014023.comp.1074.dynamics.3.fts.gz\n",
            "20161015.014103.comp.1074.dynamics.3.fts.gz\n",
            "20161015.014143.comp.1074.dynamics.3.fts.gz\n",
            "20161015.014223.comp.1074.dynamics.3.fts.gz\n",
            "20161015.014303.comp.1074.dynamics.3.fts.gz\n",
            "20161015.014343.comp.1074.dynamics.3.fts.gz\n",
            "20161015.014423.comp.1074.dynamics.3.fts.gz\n",
            "20161015.014503.comp.1074.dynamics.3.fts.gz\n",
            "20161015.014932.comp.1074.dynamics.3.fts.gz\n",
            "20161015.015012.comp.1074.dynamics.3.fts.gz\n",
            "20161015.015052.comp.1074.dynamics.3.fts.gz\n",
            "20161015.015132.comp.1074.dynamics.3.fts.gz\n",
            "20161015.015213.comp.1074.dynamics.3.fts.gz\n"
          ]
        }
      ]
    },
    {
      "cell_type": "markdown",
      "source": [
        "Ignore contents for now, details to be discussed later."
      ],
      "metadata": {
        "id": "CeAWRtQ6F3IH"
      }
    },
    {
      "cell_type": "code",
      "source": [
        "import pandas as pd\n",
        "col_names = ['date','cc_coord_x1','cc_coord_x2','cc_coord_y1','cc_coord_y2','start_file','num_files_proc']\n",
        "vals = [[20161014,36,70,230,295,0,350]]\n",
        "df = pd.DataFrame(vals, columns=col_names)\n",
        "\n",
        "df.to_csv('/usr/local/lib/python3.10/dist-packages/compPy/find_date_info.csv',index=False)\n",
        "\n",
        "\n",
        "\n"
      ],
      "metadata": {
        "id": "GLrrxS_L9Qeh"
      },
      "execution_count": 6,
      "outputs": []
    },
    {
      "cell_type": "markdown",
      "source": [
        "# Initial read in of Level 1 files"
      ],
      "metadata": {
        "id": "HuqZsrDIvBET"
      }
    },
    {
      "cell_type": "markdown",
      "source": [
        "Have to edit home and root_dir in config files.\n",
        "\n",
        "Run the following cell then edit the following enteries:\n",
        "* `root_dir='/content'`\n",
        "* `home=''`\n",
        "* `modulePath='/usr/local/lib/python3.10/dist-packages'`\n",
        "\n",
        "If installing on your own system, the `root_dir` should be the location of `CoMP` directory (as set above). The `home` setting can probably be left unchanged. The module path will be to the installation of `compPy` on your system."
      ],
      "metadata": {
        "id": "HBQrFi4A3dOT"
      }
    },
    {
      "cell_type": "code",
      "source": [
        "from google.colab import files\n",
        "files.view('/usr/local/lib/python3.10/dist-packages/compPy/util/config.py')\n"
      ],
      "metadata": {
        "id": "9SrnlnnLxD0C",
        "outputId": "ee281051-ada4-4f82-dfc5-3d532828dcdc",
        "colab": {
          "base_uri": "https://localhost:8080/",
          "height": 17
        }
      },
      "execution_count": 2,
      "outputs": [
        {
          "output_type": "display_data",
          "data": {
            "text/plain": [
              "<IPython.core.display.Javascript object>"
            ],
            "application/javascript": [
              "\n",
              "      ((filepath) => {{\n",
              "        if (!google.colab.kernel.accessAllowed) {{\n",
              "          return;\n",
              "        }}\n",
              "        google.colab.files.view(filepath);\n",
              "      }})(\"/usr/local/lib/python3.10/dist-packages/compPy/util/config.py\")"
            ]
          },
          "metadata": {}
        }
      ]
    },
    {
      "cell_type": "code",
      "source": [
        "from compPy.io.in_out import initial_load_files\n",
        "\n",
        "date = '20161014'\n",
        "cube = initial_load_files(date)"
      ],
      "metadata": {
        "id": "rvf6Pd1XfIpF",
        "outputId": "e0333cfe-2971-4f25-c0b2-df812404f8dd",
        "colab": {
          "base_uri": "https://localhost:8080/"
        }
      },
      "execution_count": 1,
      "outputs": [
        {
          "output_type": "stream",
          "name": "stdout",
          "text": [
            "Searching /content/CoMP/2016/10/14/dynamics_1074// for *dynamics*\n"
          ]
        },
        {
          "output_type": "stream",
          "name": "stderr",
          "text": [
            "WARNING: non-ASCII characters are present in the FITS file header and have been replaced by \"?\" characters [astropy.io.fits.util]\n",
            "WARNING:astropy:non-ASCII characters are present in the FITS file header and have been replaced by \"?\" characters\n"
          ]
        },
        {
          "output_type": "stream",
          "name": "stdout",
          "text": [
            "Reading in data: |██████████████████████████████| 100.0% Complete\n",
            "Saving data as fits\n"
          ]
        }
      ]
    },
    {
      "cell_type": "markdown",
      "source": [
        "# Dejittering data"
      ],
      "metadata": {
        "id": "Aas8ZJ8jvH6W"
      }
    },
    {
      "cell_type": "markdown",
      "source": [
        "# Calculating wave angles"
      ],
      "metadata": {
        "id": "qs8QgQFXvK3w"
      }
    },
    {
      "cell_type": "markdown",
      "source": [
        "# Calculating propagationg speeds"
      ],
      "metadata": {
        "id": "xrncQayFvOG-"
      }
    },
    {
      "cell_type": "code",
      "source": [
        "!ls /usr/local/lib/python3.10/dist-packages/compPy/"
      ],
      "metadata": {
        "id": "ayxkNu4sgtqr",
        "outputId": "a0e22934-64a8-48fe-ac4c-26d3b85747ce",
        "colab": {
          "base_uri": "https://localhost:8080/"
        }
      },
      "execution_count": 12,
      "outputs": [
        {
          "output_type": "stream",
          "name": "stdout",
          "text": [
            "align.py\t    developments\tload_defaults.py   util\n",
            "compute_speed.py    find_date_info.csv\t__pycache__\n",
            "compute_waveang.py  __init__.py\t\tspace_time_run.py\n",
            "density\t\t    io\t\t\ttests\n"
          ]
        }
      ]
    },
    {
      "cell_type": "code",
      "source": [
        "import os.path as osp"
      ],
      "metadata": {
        "id": "92-DkZKA0w7X"
      },
      "execution_count": null,
      "outputs": []
    },
    {
      "cell_type": "code",
      "source": [
        "osp.expanduser('~')"
      ],
      "metadata": {
        "id": "jwOWgZEx1Eg0",
        "outputId": "3d9202af-e3bb-44eb-fc17-8a87bec17313",
        "colab": {
          "base_uri": "https://localhost:8080/",
          "height": 36
        }
      },
      "execution_count": null,
      "outputs": [
        {
          "output_type": "execute_result",
          "data": {
            "text/plain": [
              "'/root'"
            ],
            "application/vnd.google.colaboratory.intrinsic+json": {
              "type": "string"
            }
          },
          "metadata": {},
          "execution_count": 27
        }
      ]
    },
    {
      "cell_type": "code",
      "source": [
        "!ls /root/content"
      ],
      "metadata": {
        "id": "J_hVTgBz1Jof",
        "outputId": "2d63c02d-6cae-4cfe-e0c8-ffd8868dec17",
        "colab": {
          "base_uri": "https://localhost:8080/"
        }
      },
      "execution_count": null,
      "outputs": [
        {
          "output_type": "stream",
          "name": "stdout",
          "text": [
            "ls: cannot access '/root/content': No such file or directory\n"
          ]
        }
      ]
    },
    {
      "cell_type": "code",
      "source": [],
      "metadata": {
        "id": "sznM6bQf1QTy"
      },
      "execution_count": null,
      "outputs": []
    }
  ]
}